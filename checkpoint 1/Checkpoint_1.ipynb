{
 "cells": [
  {
   "cell_type": "code",
   "execution_count": 1,
   "id": "e3826c63",
   "metadata": {},
   "outputs": [],
   "source": [
    "import pandas as pd"
   ]
  },
  {
   "cell_type": "code",
   "execution_count": 2,
   "id": "ef6ff269",
   "metadata": {},
   "outputs": [],
   "source": [
    "df = pd.read_csv('../fakeReviewData.csv')"
   ]
  },
  {
   "cell_type": "code",
   "execution_count": 3,
   "id": "6913a488",
   "metadata": {},
   "outputs": [
    {
     "data": {
      "text/html": [
       "<div>\n",
       "<style scoped>\n",
       "    .dataframe tbody tr th:only-of-type {\n",
       "        vertical-align: middle;\n",
       "    }\n",
       "\n",
       "    .dataframe tbody tr th {\n",
       "        vertical-align: top;\n",
       "    }\n",
       "\n",
       "    .dataframe thead th {\n",
       "        text-align: right;\n",
       "    }\n",
       "</style>\n",
       "<table border=\"1\" class=\"dataframe\">\n",
       "  <thead>\n",
       "    <tr style=\"text-align: right;\">\n",
       "      <th></th>\n",
       "      <th>category</th>\n",
       "      <th>rating</th>\n",
       "      <th>label</th>\n",
       "      <th>text_</th>\n",
       "    </tr>\n",
       "  </thead>\n",
       "  <tbody>\n",
       "    <tr>\n",
       "      <th>0</th>\n",
       "      <td>Home_and_Kitchen_5</td>\n",
       "      <td>5.0</td>\n",
       "      <td>CG</td>\n",
       "      <td>Love this!  Well made, sturdy, and very comfor...</td>\n",
       "    </tr>\n",
       "    <tr>\n",
       "      <th>1</th>\n",
       "      <td>Home_and_Kitchen_5</td>\n",
       "      <td>5.0</td>\n",
       "      <td>CG</td>\n",
       "      <td>love it, a great upgrade from the original.  I...</td>\n",
       "    </tr>\n",
       "    <tr>\n",
       "      <th>2</th>\n",
       "      <td>Home_and_Kitchen_5</td>\n",
       "      <td>5.0</td>\n",
       "      <td>CG</td>\n",
       "      <td>This pillow saved my back. I love the look and...</td>\n",
       "    </tr>\n",
       "    <tr>\n",
       "      <th>3</th>\n",
       "      <td>Home_and_Kitchen_5</td>\n",
       "      <td>1.0</td>\n",
       "      <td>CG</td>\n",
       "      <td>Missing information on how to use it, but it i...</td>\n",
       "    </tr>\n",
       "    <tr>\n",
       "      <th>4</th>\n",
       "      <td>Home_and_Kitchen_5</td>\n",
       "      <td>5.0</td>\n",
       "      <td>CG</td>\n",
       "      <td>Very nice set. Good quality. We have had the s...</td>\n",
       "    </tr>\n",
       "    <tr>\n",
       "      <th>...</th>\n",
       "      <td>...</td>\n",
       "      <td>...</td>\n",
       "      <td>...</td>\n",
       "      <td>...</td>\n",
       "    </tr>\n",
       "    <tr>\n",
       "      <th>40427</th>\n",
       "      <td>Clothing_Shoes_and_Jewelry_5</td>\n",
       "      <td>4.0</td>\n",
       "      <td>OR</td>\n",
       "      <td>I had read some reviews saying that this bra r...</td>\n",
       "    </tr>\n",
       "    <tr>\n",
       "      <th>40428</th>\n",
       "      <td>Clothing_Shoes_and_Jewelry_5</td>\n",
       "      <td>5.0</td>\n",
       "      <td>CG</td>\n",
       "      <td>I wasn't sure exactly what it would be. It is ...</td>\n",
       "    </tr>\n",
       "    <tr>\n",
       "      <th>40429</th>\n",
       "      <td>Clothing_Shoes_and_Jewelry_5</td>\n",
       "      <td>2.0</td>\n",
       "      <td>OR</td>\n",
       "      <td>You can wear the hood by itself, wear it with ...</td>\n",
       "    </tr>\n",
       "    <tr>\n",
       "      <th>40430</th>\n",
       "      <td>Clothing_Shoes_and_Jewelry_5</td>\n",
       "      <td>1.0</td>\n",
       "      <td>CG</td>\n",
       "      <td>I liked nothing about this dress. The only rea...</td>\n",
       "    </tr>\n",
       "    <tr>\n",
       "      <th>40431</th>\n",
       "      <td>Clothing_Shoes_and_Jewelry_5</td>\n",
       "      <td>5.0</td>\n",
       "      <td>OR</td>\n",
       "      <td>I work in the wedding industry and have to wor...</td>\n",
       "    </tr>\n",
       "  </tbody>\n",
       "</table>\n",
       "<p>40432 rows × 4 columns</p>\n",
       "</div>"
      ],
      "text/plain": [
       "                           category  rating label  \\\n",
       "0                Home_and_Kitchen_5     5.0    CG   \n",
       "1                Home_and_Kitchen_5     5.0    CG   \n",
       "2                Home_and_Kitchen_5     5.0    CG   \n",
       "3                Home_and_Kitchen_5     1.0    CG   \n",
       "4                Home_and_Kitchen_5     5.0    CG   \n",
       "...                             ...     ...   ...   \n",
       "40427  Clothing_Shoes_and_Jewelry_5     4.0    OR   \n",
       "40428  Clothing_Shoes_and_Jewelry_5     5.0    CG   \n",
       "40429  Clothing_Shoes_and_Jewelry_5     2.0    OR   \n",
       "40430  Clothing_Shoes_and_Jewelry_5     1.0    CG   \n",
       "40431  Clothing_Shoes_and_Jewelry_5     5.0    OR   \n",
       "\n",
       "                                                   text_  \n",
       "0      Love this!  Well made, sturdy, and very comfor...  \n",
       "1      love it, a great upgrade from the original.  I...  \n",
       "2      This pillow saved my back. I love the look and...  \n",
       "3      Missing information on how to use it, but it i...  \n",
       "4      Very nice set. Good quality. We have had the s...  \n",
       "...                                                  ...  \n",
       "40427  I had read some reviews saying that this bra r...  \n",
       "40428  I wasn't sure exactly what it would be. It is ...  \n",
       "40429  You can wear the hood by itself, wear it with ...  \n",
       "40430  I liked nothing about this dress. The only rea...  \n",
       "40431  I work in the wedding industry and have to wor...  \n",
       "\n",
       "[40432 rows x 4 columns]"
      ]
     },
     "execution_count": 3,
     "metadata": {},
     "output_type": "execute_result"
    }
   ],
   "source": [
    "df"
   ]
  },
  {
   "cell_type": "code",
   "execution_count": 4,
   "id": "7a141c05",
   "metadata": {},
   "outputs": [],
   "source": [
    "df = df.drop_duplicates()"
   ]
  },
  {
   "cell_type": "code",
   "execution_count": 5,
   "id": "c0bc1d35",
   "metadata": {},
   "outputs": [
    {
     "data": {
      "text/html": [
       "<div>\n",
       "<style scoped>\n",
       "    .dataframe tbody tr th:only-of-type {\n",
       "        vertical-align: middle;\n",
       "    }\n",
       "\n",
       "    .dataframe tbody tr th {\n",
       "        vertical-align: top;\n",
       "    }\n",
       "\n",
       "    .dataframe thead th {\n",
       "        text-align: right;\n",
       "    }\n",
       "</style>\n",
       "<table border=\"1\" class=\"dataframe\">\n",
       "  <thead>\n",
       "    <tr style=\"text-align: right;\">\n",
       "      <th></th>\n",
       "      <th>category</th>\n",
       "      <th>rating</th>\n",
       "      <th>label</th>\n",
       "      <th>text_</th>\n",
       "    </tr>\n",
       "  </thead>\n",
       "  <tbody>\n",
       "    <tr>\n",
       "      <th>0</th>\n",
       "      <td>Home_and_Kitchen_5</td>\n",
       "      <td>5.0</td>\n",
       "      <td>CG</td>\n",
       "      <td>Love this!  Well made, sturdy, and very comfor...</td>\n",
       "    </tr>\n",
       "    <tr>\n",
       "      <th>1</th>\n",
       "      <td>Home_and_Kitchen_5</td>\n",
       "      <td>5.0</td>\n",
       "      <td>CG</td>\n",
       "      <td>love it, a great upgrade from the original.  I...</td>\n",
       "    </tr>\n",
       "    <tr>\n",
       "      <th>2</th>\n",
       "      <td>Home_and_Kitchen_5</td>\n",
       "      <td>5.0</td>\n",
       "      <td>CG</td>\n",
       "      <td>This pillow saved my back. I love the look and...</td>\n",
       "    </tr>\n",
       "    <tr>\n",
       "      <th>3</th>\n",
       "      <td>Home_and_Kitchen_5</td>\n",
       "      <td>1.0</td>\n",
       "      <td>CG</td>\n",
       "      <td>Missing information on how to use it, but it i...</td>\n",
       "    </tr>\n",
       "    <tr>\n",
       "      <th>4</th>\n",
       "      <td>Home_and_Kitchen_5</td>\n",
       "      <td>5.0</td>\n",
       "      <td>CG</td>\n",
       "      <td>Very nice set. Good quality. We have had the s...</td>\n",
       "    </tr>\n",
       "    <tr>\n",
       "      <th>...</th>\n",
       "      <td>...</td>\n",
       "      <td>...</td>\n",
       "      <td>...</td>\n",
       "      <td>...</td>\n",
       "    </tr>\n",
       "    <tr>\n",
       "      <th>40427</th>\n",
       "      <td>Clothing_Shoes_and_Jewelry_5</td>\n",
       "      <td>4.0</td>\n",
       "      <td>OR</td>\n",
       "      <td>I had read some reviews saying that this bra r...</td>\n",
       "    </tr>\n",
       "    <tr>\n",
       "      <th>40428</th>\n",
       "      <td>Clothing_Shoes_and_Jewelry_5</td>\n",
       "      <td>5.0</td>\n",
       "      <td>CG</td>\n",
       "      <td>I wasn't sure exactly what it would be. It is ...</td>\n",
       "    </tr>\n",
       "    <tr>\n",
       "      <th>40429</th>\n",
       "      <td>Clothing_Shoes_and_Jewelry_5</td>\n",
       "      <td>2.0</td>\n",
       "      <td>OR</td>\n",
       "      <td>You can wear the hood by itself, wear it with ...</td>\n",
       "    </tr>\n",
       "    <tr>\n",
       "      <th>40430</th>\n",
       "      <td>Clothing_Shoes_and_Jewelry_5</td>\n",
       "      <td>1.0</td>\n",
       "      <td>CG</td>\n",
       "      <td>I liked nothing about this dress. The only rea...</td>\n",
       "    </tr>\n",
       "    <tr>\n",
       "      <th>40431</th>\n",
       "      <td>Clothing_Shoes_and_Jewelry_5</td>\n",
       "      <td>5.0</td>\n",
       "      <td>OR</td>\n",
       "      <td>I work in the wedding industry and have to wor...</td>\n",
       "    </tr>\n",
       "  </tbody>\n",
       "</table>\n",
       "<p>40420 rows × 4 columns</p>\n",
       "</div>"
      ],
      "text/plain": [
       "                           category  rating label  \\\n",
       "0                Home_and_Kitchen_5     5.0    CG   \n",
       "1                Home_and_Kitchen_5     5.0    CG   \n",
       "2                Home_and_Kitchen_5     5.0    CG   \n",
       "3                Home_and_Kitchen_5     1.0    CG   \n",
       "4                Home_and_Kitchen_5     5.0    CG   \n",
       "...                             ...     ...   ...   \n",
       "40427  Clothing_Shoes_and_Jewelry_5     4.0    OR   \n",
       "40428  Clothing_Shoes_and_Jewelry_5     5.0    CG   \n",
       "40429  Clothing_Shoes_and_Jewelry_5     2.0    OR   \n",
       "40430  Clothing_Shoes_and_Jewelry_5     1.0    CG   \n",
       "40431  Clothing_Shoes_and_Jewelry_5     5.0    OR   \n",
       "\n",
       "                                                   text_  \n",
       "0      Love this!  Well made, sturdy, and very comfor...  \n",
       "1      love it, a great upgrade from the original.  I...  \n",
       "2      This pillow saved my back. I love the look and...  \n",
       "3      Missing information on how to use it, but it i...  \n",
       "4      Very nice set. Good quality. We have had the s...  \n",
       "...                                                  ...  \n",
       "40427  I had read some reviews saying that this bra r...  \n",
       "40428  I wasn't sure exactly what it would be. It is ...  \n",
       "40429  You can wear the hood by itself, wear it with ...  \n",
       "40430  I liked nothing about this dress. The only rea...  \n",
       "40431  I work in the wedding industry and have to wor...  \n",
       "\n",
       "[40420 rows x 4 columns]"
      ]
     },
     "execution_count": 5,
     "metadata": {},
     "output_type": "execute_result"
    }
   ],
   "source": [
    "df"
   ]
  },
  {
   "cell_type": "code",
   "execution_count": 6,
   "id": "358dd4c2",
   "metadata": {},
   "outputs": [
    {
     "data": {
      "text/plain": [
       "category    0\n",
       "rating      0\n",
       "label       0\n",
       "text_       0\n",
       "dtype: int64"
      ]
     },
     "execution_count": 6,
     "metadata": {},
     "output_type": "execute_result"
    }
   ],
   "source": [
    "df.isnull().sum()"
   ]
  },
  {
   "cell_type": "code",
   "execution_count": 7,
   "id": "22840cdf",
   "metadata": {},
   "outputs": [
    {
     "name": "stderr",
     "output_type": "stream",
     "text": [
      "C:\\Users\\rishi\\AppData\\Local\\Temp\\ipykernel_3112\\3985980292.py:1: SettingWithCopyWarning: \n",
      "A value is trying to be set on a copy of a slice from a DataFrame.\n",
      "Try using .loc[row_indexer,col_indexer] = value instead\n",
      "\n",
      "See the caveats in the documentation: https://pandas.pydata.org/pandas-docs/stable/user_guide/indexing.html#returning-a-view-versus-a-copy\n",
      "  df['text_'] = df['text_'].str.lower()\n"
     ]
    }
   ],
   "source": [
    "df['text_'] = df['text_'].str.lower()"
   ]
  },
  {
   "cell_type": "code",
   "execution_count": 8,
   "id": "d16e7655",
   "metadata": {},
   "outputs": [
    {
     "data": {
      "text/html": [
       "<div>\n",
       "<style scoped>\n",
       "    .dataframe tbody tr th:only-of-type {\n",
       "        vertical-align: middle;\n",
       "    }\n",
       "\n",
       "    .dataframe tbody tr th {\n",
       "        vertical-align: top;\n",
       "    }\n",
       "\n",
       "    .dataframe thead th {\n",
       "        text-align: right;\n",
       "    }\n",
       "</style>\n",
       "<table border=\"1\" class=\"dataframe\">\n",
       "  <thead>\n",
       "    <tr style=\"text-align: right;\">\n",
       "      <th></th>\n",
       "      <th>category</th>\n",
       "      <th>rating</th>\n",
       "      <th>label</th>\n",
       "      <th>text_</th>\n",
       "    </tr>\n",
       "  </thead>\n",
       "  <tbody>\n",
       "    <tr>\n",
       "      <th>0</th>\n",
       "      <td>Home_and_Kitchen_5</td>\n",
       "      <td>5.0</td>\n",
       "      <td>CG</td>\n",
       "      <td>love this!  well made, sturdy, and very comfor...</td>\n",
       "    </tr>\n",
       "    <tr>\n",
       "      <th>1</th>\n",
       "      <td>Home_and_Kitchen_5</td>\n",
       "      <td>5.0</td>\n",
       "      <td>CG</td>\n",
       "      <td>love it, a great upgrade from the original.  i...</td>\n",
       "    </tr>\n",
       "    <tr>\n",
       "      <th>2</th>\n",
       "      <td>Home_and_Kitchen_5</td>\n",
       "      <td>5.0</td>\n",
       "      <td>CG</td>\n",
       "      <td>this pillow saved my back. i love the look and...</td>\n",
       "    </tr>\n",
       "    <tr>\n",
       "      <th>3</th>\n",
       "      <td>Home_and_Kitchen_5</td>\n",
       "      <td>1.0</td>\n",
       "      <td>CG</td>\n",
       "      <td>missing information on how to use it, but it i...</td>\n",
       "    </tr>\n",
       "    <tr>\n",
       "      <th>4</th>\n",
       "      <td>Home_and_Kitchen_5</td>\n",
       "      <td>5.0</td>\n",
       "      <td>CG</td>\n",
       "      <td>very nice set. good quality. we have had the s...</td>\n",
       "    </tr>\n",
       "    <tr>\n",
       "      <th>...</th>\n",
       "      <td>...</td>\n",
       "      <td>...</td>\n",
       "      <td>...</td>\n",
       "      <td>...</td>\n",
       "    </tr>\n",
       "    <tr>\n",
       "      <th>40427</th>\n",
       "      <td>Clothing_Shoes_and_Jewelry_5</td>\n",
       "      <td>4.0</td>\n",
       "      <td>OR</td>\n",
       "      <td>i had read some reviews saying that this bra r...</td>\n",
       "    </tr>\n",
       "    <tr>\n",
       "      <th>40428</th>\n",
       "      <td>Clothing_Shoes_and_Jewelry_5</td>\n",
       "      <td>5.0</td>\n",
       "      <td>CG</td>\n",
       "      <td>i wasn't sure exactly what it would be. it is ...</td>\n",
       "    </tr>\n",
       "    <tr>\n",
       "      <th>40429</th>\n",
       "      <td>Clothing_Shoes_and_Jewelry_5</td>\n",
       "      <td>2.0</td>\n",
       "      <td>OR</td>\n",
       "      <td>you can wear the hood by itself, wear it with ...</td>\n",
       "    </tr>\n",
       "    <tr>\n",
       "      <th>40430</th>\n",
       "      <td>Clothing_Shoes_and_Jewelry_5</td>\n",
       "      <td>1.0</td>\n",
       "      <td>CG</td>\n",
       "      <td>i liked nothing about this dress. the only rea...</td>\n",
       "    </tr>\n",
       "    <tr>\n",
       "      <th>40431</th>\n",
       "      <td>Clothing_Shoes_and_Jewelry_5</td>\n",
       "      <td>5.0</td>\n",
       "      <td>OR</td>\n",
       "      <td>i work in the wedding industry and have to wor...</td>\n",
       "    </tr>\n",
       "  </tbody>\n",
       "</table>\n",
       "<p>40420 rows × 4 columns</p>\n",
       "</div>"
      ],
      "text/plain": [
       "                           category  rating label  \\\n",
       "0                Home_and_Kitchen_5     5.0    CG   \n",
       "1                Home_and_Kitchen_5     5.0    CG   \n",
       "2                Home_and_Kitchen_5     5.0    CG   \n",
       "3                Home_and_Kitchen_5     1.0    CG   \n",
       "4                Home_and_Kitchen_5     5.0    CG   \n",
       "...                             ...     ...   ...   \n",
       "40427  Clothing_Shoes_and_Jewelry_5     4.0    OR   \n",
       "40428  Clothing_Shoes_and_Jewelry_5     5.0    CG   \n",
       "40429  Clothing_Shoes_and_Jewelry_5     2.0    OR   \n",
       "40430  Clothing_Shoes_and_Jewelry_5     1.0    CG   \n",
       "40431  Clothing_Shoes_and_Jewelry_5     5.0    OR   \n",
       "\n",
       "                                                   text_  \n",
       "0      love this!  well made, sturdy, and very comfor...  \n",
       "1      love it, a great upgrade from the original.  i...  \n",
       "2      this pillow saved my back. i love the look and...  \n",
       "3      missing information on how to use it, but it i...  \n",
       "4      very nice set. good quality. we have had the s...  \n",
       "...                                                  ...  \n",
       "40427  i had read some reviews saying that this bra r...  \n",
       "40428  i wasn't sure exactly what it would be. it is ...  \n",
       "40429  you can wear the hood by itself, wear it with ...  \n",
       "40430  i liked nothing about this dress. the only rea...  \n",
       "40431  i work in the wedding industry and have to wor...  \n",
       "\n",
       "[40420 rows x 4 columns]"
      ]
     },
     "execution_count": 8,
     "metadata": {},
     "output_type": "execute_result"
    }
   ],
   "source": [
    "df"
   ]
  },
  {
   "cell_type": "code",
   "execution_count": 9,
   "id": "afc58adb",
   "metadata": {},
   "outputs": [],
   "source": [
    "import string\n",
    "exclude = string.punctuation+'0123456789'"
   ]
  },
  {
   "cell_type": "code",
   "execution_count": 10,
   "id": "f3284a30",
   "metadata": {},
   "outputs": [],
   "source": [
    "def remove_punctuation(text):\n",
    "    return text.translate(str.maketrans('','',exclude))"
   ]
  },
  {
   "cell_type": "code",
   "execution_count": 11,
   "id": "d4bef98d",
   "metadata": {},
   "outputs": [
    {
     "name": "stderr",
     "output_type": "stream",
     "text": [
      "C:\\Users\\rishi\\AppData\\Local\\Temp\\ipykernel_3112\\1471756791.py:1: SettingWithCopyWarning: \n",
      "A value is trying to be set on a copy of a slice from a DataFrame.\n",
      "Try using .loc[row_indexer,col_indexer] = value instead\n",
      "\n",
      "See the caveats in the documentation: https://pandas.pydata.org/pandas-docs/stable/user_guide/indexing.html#returning-a-view-versus-a-copy\n",
      "  df['text_'] = df['text_'].apply(remove_punctuation)\n"
     ]
    }
   ],
   "source": [
    "df['text_'] = df['text_'].apply(remove_punctuation)"
   ]
  },
  {
   "cell_type": "code",
   "execution_count": 12,
   "id": "9ed4999e",
   "metadata": {},
   "outputs": [
    {
     "data": {
      "text/plain": [
       "0        love this  well made sturdy and very comfortab...\n",
       "1        love it a great upgrade from the original  ive...\n",
       "2        this pillow saved my back i love the look and ...\n",
       "3        missing information on how to use it but it is...\n",
       "4        very nice set good quality we have had the set...\n",
       "                               ...                        \n",
       "40427    i had read some reviews saying that this bra r...\n",
       "40428    i wasnt sure exactly what it would be it is a ...\n",
       "40429    you can wear the hood by itself wear it with t...\n",
       "40430    i liked nothing about this dress the only reas...\n",
       "40431    i work in the wedding industry and have to wor...\n",
       "Name: text_, Length: 40420, dtype: object"
      ]
     },
     "execution_count": 12,
     "metadata": {},
     "output_type": "execute_result"
    }
   ],
   "source": [
    "df['text_']"
   ]
  },
  {
   "cell_type": "code",
   "execution_count": 13,
   "id": "a6a86d1c",
   "metadata": {},
   "outputs": [],
   "source": [
    "from nltk.corpus import stopwords"
   ]
  },
  {
   "cell_type": "code",
   "execution_count": 14,
   "id": "3a3fef0c",
   "metadata": {},
   "outputs": [],
   "source": [
    "def remove_stopwords(text):\n",
    "    new_text=[]\n",
    "    for word in text.split():\n",
    "        if word in stopwords.words('english'):\n",
    "            new_text.append('')\n",
    "        else :\n",
    "            new_text.append(word)\n",
    "    str = new_text[:]\n",
    "    new_text.clear()\n",
    "    return \" \".join(str)"
   ]
  },
  {
   "cell_type": "code",
   "execution_count": 15,
   "id": "bee23db7",
   "metadata": {},
   "outputs": [
    {
     "name": "stderr",
     "output_type": "stream",
     "text": [
      "C:\\Users\\rishi\\AppData\\Local\\Temp\\ipykernel_3112\\597425732.py:1: SettingWithCopyWarning: \n",
      "A value is trying to be set on a copy of a slice from a DataFrame.\n",
      "Try using .loc[row_indexer,col_indexer] = value instead\n",
      "\n",
      "See the caveats in the documentation: https://pandas.pydata.org/pandas-docs/stable/user_guide/indexing.html#returning-a-view-versus-a-copy\n",
      "  df['text_'] = df['text_'].apply(remove_stopwords)\n"
     ]
    }
   ],
   "source": [
    "df['text_'] = df['text_'].apply(remove_stopwords)"
   ]
  },
  {
   "cell_type": "code",
   "execution_count": 16,
   "id": "5c29a76f",
   "metadata": {},
   "outputs": [
    {
     "data": {
      "text/plain": [
       "0        love  well made sturdy   comfortable  love itv...\n",
       "1        love   great upgrade   original ive  mine   co...\n",
       "2            pillow saved  back  love  look  feel   pillow\n",
       "3        missing information    use      great product ...\n",
       "4           nice set good quality     set  two months     \n",
       "                               ...                        \n",
       "40427      read  reviews saying   bra ran small    orde...\n",
       "40428     wasnt sure exactly   would     little large  ...\n",
       "40429      wear  hood   wear    hood  wear   jacket wit...\n",
       "40430     liked nothing   dress   reason  gave  stars  ...\n",
       "40431     work   wedding industry    work long days   f...\n",
       "Name: text_, Length: 40420, dtype: object"
      ]
     },
     "execution_count": 16,
     "metadata": {},
     "output_type": "execute_result"
    }
   ],
   "source": [
    "df['text_']"
   ]
  },
  {
   "cell_type": "code",
   "execution_count": 17,
   "id": "e3b873a4",
   "metadata": {},
   "outputs": [
    {
     "name": "stderr",
     "output_type": "stream",
     "text": [
      "C:\\Users\\rishi\\AppData\\Local\\Temp\\ipykernel_3112\\3196471940.py:1: SettingWithCopyWarning: \n",
      "A value is trying to be set on a copy of a slice from a DataFrame.\n",
      "Try using .loc[row_indexer,col_indexer] = value instead\n",
      "\n",
      "See the caveats in the documentation: https://pandas.pydata.org/pandas-docs/stable/user_guide/indexing.html#returning-a-view-versus-a-copy\n",
      "  df['text_'] = df['text_'].str.strip()\n"
     ]
    }
   ],
   "source": [
    "df['text_'] = df['text_'].str.strip()"
   ]
  },
  {
   "cell_type": "code",
   "execution_count": 18,
   "id": "e23885f5",
   "metadata": {},
   "outputs": [],
   "source": [
    "df = df[df['text_']!='']"
   ]
  },
  {
   "cell_type": "code",
   "execution_count": 19,
   "id": "327b1c73",
   "metadata": {},
   "outputs": [],
   "source": [
    "df=df.reset_index()"
   ]
  },
  {
   "cell_type": "code",
   "execution_count": 20,
   "id": "74d360c1",
   "metadata": {},
   "outputs": [],
   "source": [
    "from nltk.stem import WordNetLemmatizer\n",
    "word_lemma = WordNetLemmatizer()"
   ]
  },
  {
   "cell_type": "code",
   "execution_count": 21,
   "id": "c3ff9820",
   "metadata": {},
   "outputs": [],
   "source": [
    "def word_to_lemma(text):\n",
    "    return \" \".join([word_lemma.lemmatize(word,pos='v') for word in text.split()])"
   ]
  },
  {
   "cell_type": "code",
   "execution_count": 22,
   "id": "f27d05ed",
   "metadata": {},
   "outputs": [],
   "source": [
    "df['text_'] = df['text_'].apply(word_to_lemma)"
   ]
  },
  {
   "cell_type": "code",
   "execution_count": 23,
   "id": "2b1f35d0",
   "metadata": {},
   "outputs": [
    {
     "data": {
      "text/plain": [
       "0        love well make sturdy comfortable love itvery ...\n",
       "1        love great upgrade original ive mine couple years\n",
       "2                   pillow save back love look feel pillow\n",
       "3                 miss information use great product price\n",
       "4                     nice set good quality set two months\n",
       "                               ...                        \n",
       "40414    read review say bra run small order two band c...\n",
       "40415    wasnt sure exactly would little large small si...\n",
       "40416    wear hood wear hood wear jacket without hood s...\n",
       "40417    like nothing dress reason give star order size...\n",
       "40418    work wed industry work long days feet outside ...\n",
       "Name: text_, Length: 40419, dtype: object"
      ]
     },
     "execution_count": 23,
     "metadata": {},
     "output_type": "execute_result"
    }
   ],
   "source": [
    "df['text_']"
   ]
  },
  {
   "cell_type": "code",
   "execution_count": 24,
   "id": "e0779c5f",
   "metadata": {},
   "outputs": [],
   "source": [
    "from nltk.tokenize import word_tokenize"
   ]
  },
  {
   "cell_type": "code",
   "execution_count": 25,
   "id": "27e879f4",
   "metadata": {},
   "outputs": [],
   "source": [
    "df['text_'] = df['text_'].apply(word_tokenize)"
   ]
  },
  {
   "cell_type": "code",
   "execution_count": 26,
   "id": "7a1de573",
   "metadata": {},
   "outputs": [
    {
     "data": {
      "text/plain": [
       "0        [love, well, make, sturdy, comfortable, love, ...\n",
       "1        [love, great, upgrade, original, ive, mine, co...\n",
       "2           [pillow, save, back, love, look, feel, pillow]\n",
       "3          [miss, information, use, great, product, price]\n",
       "4             [nice, set, good, quality, set, two, months]\n",
       "                               ...                        \n",
       "40414    [read, review, say, bra, run, small, order, tw...\n",
       "40415    [wasnt, sure, exactly, would, little, large, s...\n",
       "40416    [wear, hood, wear, hood, wear, jacket, without...\n",
       "40417    [like, nothing, dress, reason, give, star, ord...\n",
       "40418    [work, wed, industry, work, long, days, feet, ...\n",
       "Name: text_, Length: 40419, dtype: object"
      ]
     },
     "execution_count": 26,
     "metadata": {},
     "output_type": "execute_result"
    }
   ],
   "source": [
    "df['text_']"
   ]
  },
  {
   "cell_type": "code",
   "execution_count": 27,
   "id": "aa8035cc",
   "metadata": {},
   "outputs": [],
   "source": [
    "from nltk.tokenize import sent_tokenize\n",
    "corpus=[]\n",
    "for i in range(0,len(df['text_'])):\n",
    "    corpus.append(df['text_'][i])"
   ]
  },
  {
   "cell_type": "code",
   "execution_count": 28,
   "id": "f33c61d6",
   "metadata": {},
   "outputs": [
    {
     "data": {
      "text/plain": [
       "40419"
      ]
     },
     "execution_count": 28,
     "metadata": {},
     "output_type": "execute_result"
    }
   ],
   "source": [
    "len(corpus)"
   ]
  },
  {
   "cell_type": "code",
   "execution_count": 29,
   "id": "2136e9ed",
   "metadata": {},
   "outputs": [],
   "source": [
    "import gensim"
   ]
  },
  {
   "cell_type": "code",
   "execution_count": 30,
   "id": "0c7fc362",
   "metadata": {},
   "outputs": [],
   "source": [
    "model = gensim.models.Word2Vec(window=5,min_count=1)"
   ]
  },
  {
   "cell_type": "code",
   "execution_count": 31,
   "id": "b2f9b0a1",
   "metadata": {},
   "outputs": [],
   "source": [
    "model.build_vocab(corpus)"
   ]
  },
  {
   "cell_type": "code",
   "execution_count": 32,
   "id": "fd4d5aa2",
   "metadata": {},
   "outputs": [
    {
     "data": {
      "text/plain": [
       "(5661402, 6391880)"
      ]
     },
     "execution_count": 32,
     "metadata": {},
     "output_type": "execute_result"
    }
   ],
   "source": [
    "model.train(corpus, total_examples=model.corpus_count, epochs=model.epochs)"
   ]
  },
  {
   "cell_type": "code",
   "execution_count": 33,
   "id": "90bca924",
   "metadata": {},
   "outputs": [
    {
     "data": {
      "text/plain": [
       "[('great', 0.7464001774787903),\n",
       " ('decent', 0.7196747660636902),\n",
       " ('nice', 0.6758546829223633),\n",
       " ('impress', 0.6673646569252014),\n",
       " ('excellent', 0.6668740510940552),\n",
       " ('awesome', 0.6656310558319092),\n",
       " ('enjoyable', 0.6580897569656372),\n",
       " ('linei', 0.644585132598877),\n",
       " ('okay', 0.6314781904220581),\n",
       " ('wellmade', 0.6310348510742188)]"
      ]
     },
     "execution_count": 33,
     "metadata": {},
     "output_type": "execute_result"
    }
   ],
   "source": [
    "model.wv.most_similar('good')"
   ]
  },
  {
   "cell_type": "code",
   "execution_count": 34,
   "id": "6cdd71f4",
   "metadata": {},
   "outputs": [
    {
     "data": {
      "text/plain": [
       "array([-0.06653524, -0.70134526, -0.7491482 ,  1.0854932 ,  1.6916995 ,\n",
       "       -2.1064696 ,  1.2231103 , -0.69528395, -1.241376  , -0.46761864,\n",
       "        0.08299359,  0.14221936, -0.16886342,  0.93829393,  1.9103543 ,\n",
       "        0.28863776,  0.56369686, -0.15638526, -1.5690486 , -0.3366855 ,\n",
       "       -0.12264609,  0.4448383 , -0.38446337,  1.0765517 , -0.48097086,\n",
       "       -0.13254972,  0.07266481, -0.906178  , -0.46776578,  1.0153716 ,\n",
       "        0.2622346 , -1.9054431 ,  0.921875  , -0.83232015, -0.18717317,\n",
       "        1.8769536 ,  1.025867  , -0.42295   , -2.2087996 ,  0.15816852,\n",
       "       -1.6402787 ,  0.28821644, -0.7150799 , -1.0819925 ,  1.0612065 ,\n",
       "        0.59310377, -0.0425174 ,  0.32856306,  1.1768031 , -0.61727196,\n",
       "        0.16849546, -1.036758  , -0.94238526,  1.1333036 , -0.7479256 ,\n",
       "       -1.0518814 , -1.0024925 ,  0.24247037,  0.6279007 ,  0.559857  ,\n",
       "       -0.63053715,  0.15859872,  2.5256047 , -1.5330719 , -0.7653375 ,\n",
       "        1.8531449 ,  1.171249  ,  0.573731  , -0.6783384 , -1.5950907 ,\n",
       "       -0.3972847 ,  1.0786108 ,  0.75840276, -1.1749539 ,  0.16634488,\n",
       "        0.64623785, -0.54634774,  0.09025422, -0.6908371 , -0.29327276,\n",
       "        0.12724636,  0.5626241 , -0.46351957,  0.2794528 , -0.26040512,\n",
       "       -0.98632866,  1.2068039 ,  0.1944587 ,  0.3620041 , -0.7516887 ,\n",
       "       -0.35789105,  1.772607  , -0.26388994, -0.31844538,  1.3435167 ,\n",
       "       -1.8860925 ,  1.7524035 ,  0.56235665,  0.38296756, -2.5798647 ],\n",
       "      dtype=float32)"
      ]
     },
     "execution_count": 34,
     "metadata": {},
     "output_type": "execute_result"
    }
   ],
   "source": [
    "model.wv['good']"
   ]
  },
  {
   "cell_type": "code",
   "execution_count": 35,
   "id": "dd80a7f0",
   "metadata": {},
   "outputs": [],
   "source": [
    "import numpy as np"
   ]
  },
  {
   "cell_type": "code",
   "execution_count": 36,
   "id": "52a24b16",
   "metadata": {},
   "outputs": [],
   "source": [
    "def sentence_vector(sent):\n",
    "    sent = [word for word in sent if word in model.wv.index_to_key]\n",
    "    return np.mean(model.wv[sent],axis=0)"
   ]
  },
  {
   "cell_type": "code",
   "execution_count": 37,
   "id": "973bcb46",
   "metadata": {},
   "outputs": [],
   "source": [
    "from tqdm import tqdm"
   ]
  },
  {
   "cell_type": "code",
   "execution_count": 38,
   "id": "9be4be04",
   "metadata": {},
   "outputs": [
    {
     "name": "stderr",
     "output_type": "stream",
     "text": [
      "100%|███████████████████████████████████████████████████████████████████████████| 40419/40419 [00:49<00:00, 810.63it/s]\n"
     ]
    }
   ],
   "source": [
    "data=[]\n",
    "for sent in tqdm(df['text_'].values):\n",
    "    data.append(sentence_vector(sent))"
   ]
  },
  {
   "cell_type": "code",
   "execution_count": 39,
   "id": "97569231",
   "metadata": {},
   "outputs": [],
   "source": [
    "data = np.array(data)"
   ]
  },
  {
   "cell_type": "code",
   "execution_count": 40,
   "id": "9fd5baae",
   "metadata": {},
   "outputs": [
    {
     "data": {
      "text/plain": [
       "(40419, 100)"
      ]
     },
     "execution_count": 40,
     "metadata": {},
     "output_type": "execute_result"
    }
   ],
   "source": [
    "data.shape"
   ]
  },
  {
   "cell_type": "code",
   "execution_count": 41,
   "id": "7a085161",
   "metadata": {},
   "outputs": [
    {
     "data": {
      "text/plain": [
       "array([[ 0.51234096, -0.8662119 , -0.3682067 , ..., -0.9136327 ,\n",
       "         0.22380993, -0.9843292 ],\n",
       "       [-0.32024422, -0.35106233, -0.23759088, ..., -0.22868071,\n",
       "         0.74237275, -0.30302474],\n",
       "       [ 1.0715518 , -0.32561246, -1.3107281 , ..., -0.38514534,\n",
       "         0.4687033 , -0.3425115 ],\n",
       "       ...,\n",
       "       [ 0.14943118,  0.19477762, -0.5370775 , ..., -0.30298576,\n",
       "         0.1161783 , -0.26958653],\n",
       "       [ 0.6133556 ,  0.01874176, -1.0496508 , ...,  0.00227739,\n",
       "         0.30366728, -0.48884553],\n",
       "       [ 0.4161413 , -0.08211011, -0.855329  , ..., -0.49207547,\n",
       "         0.34816495, -0.09242618]], dtype=float32)"
      ]
     },
     "execution_count": 41,
     "metadata": {},
     "output_type": "execute_result"
    }
   ],
   "source": [
    "data"
   ]
  },
  {
   "cell_type": "code",
   "execution_count": 42,
   "id": "fff81136",
   "metadata": {},
   "outputs": [],
   "source": [
    "df['vector'] = [row for row in data]"
   ]
  },
  {
   "cell_type": "code",
   "execution_count": 43,
   "id": "25939917",
   "metadata": {},
   "outputs": [],
   "source": [
    "df.drop(columns='index', inplace=True)"
   ]
  },
  {
   "cell_type": "code",
   "execution_count": 44,
   "id": "b7b8c8d0",
   "metadata": {},
   "outputs": [
    {
     "data": {
      "text/html": [
       "<div>\n",
       "<style scoped>\n",
       "    .dataframe tbody tr th:only-of-type {\n",
       "        vertical-align: middle;\n",
       "    }\n",
       "\n",
       "    .dataframe tbody tr th {\n",
       "        vertical-align: top;\n",
       "    }\n",
       "\n",
       "    .dataframe thead th {\n",
       "        text-align: right;\n",
       "    }\n",
       "</style>\n",
       "<table border=\"1\" class=\"dataframe\">\n",
       "  <thead>\n",
       "    <tr style=\"text-align: right;\">\n",
       "      <th></th>\n",
       "      <th>category</th>\n",
       "      <th>rating</th>\n",
       "      <th>label</th>\n",
       "      <th>text_</th>\n",
       "      <th>vector</th>\n",
       "    </tr>\n",
       "  </thead>\n",
       "  <tbody>\n",
       "    <tr>\n",
       "      <th>0</th>\n",
       "      <td>Home_and_Kitchen_5</td>\n",
       "      <td>5.0</td>\n",
       "      <td>CG</td>\n",
       "      <td>[love, well, make, sturdy, comfortable, love, ...</td>\n",
       "      <td>[0.51234096, -0.8662119, -0.3682067, 0.8485853...</td>\n",
       "    </tr>\n",
       "    <tr>\n",
       "      <th>1</th>\n",
       "      <td>Home_and_Kitchen_5</td>\n",
       "      <td>5.0</td>\n",
       "      <td>CG</td>\n",
       "      <td>[love, great, upgrade, original, ive, mine, co...</td>\n",
       "      <td>[-0.32024422, -0.35106233, -0.23759088, 0.9304...</td>\n",
       "    </tr>\n",
       "    <tr>\n",
       "      <th>2</th>\n",
       "      <td>Home_and_Kitchen_5</td>\n",
       "      <td>5.0</td>\n",
       "      <td>CG</td>\n",
       "      <td>[pillow, save, back, love, look, feel, pillow]</td>\n",
       "      <td>[1.0715518, -0.32561246, -1.3107281, 0.5562251...</td>\n",
       "    </tr>\n",
       "    <tr>\n",
       "      <th>3</th>\n",
       "      <td>Home_and_Kitchen_5</td>\n",
       "      <td>1.0</td>\n",
       "      <td>CG</td>\n",
       "      <td>[miss, information, use, great, product, price]</td>\n",
       "      <td>[0.04733269, -0.03660731, -0.6258498, 0.412645...</td>\n",
       "    </tr>\n",
       "    <tr>\n",
       "      <th>4</th>\n",
       "      <td>Home_and_Kitchen_5</td>\n",
       "      <td>5.0</td>\n",
       "      <td>CG</td>\n",
       "      <td>[nice, set, good, quality, set, two, months]</td>\n",
       "      <td>[0.118834436, -0.46801132, -0.70364386, 1.0153...</td>\n",
       "    </tr>\n",
       "    <tr>\n",
       "      <th>...</th>\n",
       "      <td>...</td>\n",
       "      <td>...</td>\n",
       "      <td>...</td>\n",
       "      <td>...</td>\n",
       "      <td>...</td>\n",
       "    </tr>\n",
       "    <tr>\n",
       "      <th>40414</th>\n",
       "      <td>Clothing_Shoes_and_Jewelry_5</td>\n",
       "      <td>4.0</td>\n",
       "      <td>OR</td>\n",
       "      <td>[read, review, say, bra, run, small, order, tw...</td>\n",
       "      <td>[0.022010934, 0.123554364, -0.72576785, 0.4932...</td>\n",
       "    </tr>\n",
       "    <tr>\n",
       "      <th>40415</th>\n",
       "      <td>Clothing_Shoes_and_Jewelry_5</td>\n",
       "      <td>5.0</td>\n",
       "      <td>CG</td>\n",
       "      <td>[wasnt, sure, exactly, would, little, large, s...</td>\n",
       "      <td>[0.7293485, 0.06908631, -0.9561861, 0.95768046...</td>\n",
       "    </tr>\n",
       "    <tr>\n",
       "      <th>40416</th>\n",
       "      <td>Clothing_Shoes_and_Jewelry_5</td>\n",
       "      <td>2.0</td>\n",
       "      <td>OR</td>\n",
       "      <td>[wear, hood, wear, hood, wear, jacket, without...</td>\n",
       "      <td>[0.14943118, 0.19477762, -0.5370775, 0.2573395...</td>\n",
       "    </tr>\n",
       "    <tr>\n",
       "      <th>40417</th>\n",
       "      <td>Clothing_Shoes_and_Jewelry_5</td>\n",
       "      <td>1.0</td>\n",
       "      <td>CG</td>\n",
       "      <td>[like, nothing, dress, reason, give, star, ord...</td>\n",
       "      <td>[0.6133556, 0.018741762, -1.0496508, 1.0600104...</td>\n",
       "    </tr>\n",
       "    <tr>\n",
       "      <th>40418</th>\n",
       "      <td>Clothing_Shoes_and_Jewelry_5</td>\n",
       "      <td>5.0</td>\n",
       "      <td>OR</td>\n",
       "      <td>[work, wed, industry, work, long, days, feet, ...</td>\n",
       "      <td>[0.4161413, -0.082110114, -0.855329, 0.6914406...</td>\n",
       "    </tr>\n",
       "  </tbody>\n",
       "</table>\n",
       "<p>40419 rows × 5 columns</p>\n",
       "</div>"
      ],
      "text/plain": [
       "                           category  rating label  \\\n",
       "0                Home_and_Kitchen_5     5.0    CG   \n",
       "1                Home_and_Kitchen_5     5.0    CG   \n",
       "2                Home_and_Kitchen_5     5.0    CG   \n",
       "3                Home_and_Kitchen_5     1.0    CG   \n",
       "4                Home_and_Kitchen_5     5.0    CG   \n",
       "...                             ...     ...   ...   \n",
       "40414  Clothing_Shoes_and_Jewelry_5     4.0    OR   \n",
       "40415  Clothing_Shoes_and_Jewelry_5     5.0    CG   \n",
       "40416  Clothing_Shoes_and_Jewelry_5     2.0    OR   \n",
       "40417  Clothing_Shoes_and_Jewelry_5     1.0    CG   \n",
       "40418  Clothing_Shoes_and_Jewelry_5     5.0    OR   \n",
       "\n",
       "                                                   text_  \\\n",
       "0      [love, well, make, sturdy, comfortable, love, ...   \n",
       "1      [love, great, upgrade, original, ive, mine, co...   \n",
       "2         [pillow, save, back, love, look, feel, pillow]   \n",
       "3        [miss, information, use, great, product, price]   \n",
       "4           [nice, set, good, quality, set, two, months]   \n",
       "...                                                  ...   \n",
       "40414  [read, review, say, bra, run, small, order, tw...   \n",
       "40415  [wasnt, sure, exactly, would, little, large, s...   \n",
       "40416  [wear, hood, wear, hood, wear, jacket, without...   \n",
       "40417  [like, nothing, dress, reason, give, star, ord...   \n",
       "40418  [work, wed, industry, work, long, days, feet, ...   \n",
       "\n",
       "                                                  vector  \n",
       "0      [0.51234096, -0.8662119, -0.3682067, 0.8485853...  \n",
       "1      [-0.32024422, -0.35106233, -0.23759088, 0.9304...  \n",
       "2      [1.0715518, -0.32561246, -1.3107281, 0.5562251...  \n",
       "3      [0.04733269, -0.03660731, -0.6258498, 0.412645...  \n",
       "4      [0.118834436, -0.46801132, -0.70364386, 1.0153...  \n",
       "...                                                  ...  \n",
       "40414  [0.022010934, 0.123554364, -0.72576785, 0.4932...  \n",
       "40415  [0.7293485, 0.06908631, -0.9561861, 0.95768046...  \n",
       "40416  [0.14943118, 0.19477762, -0.5370775, 0.2573395...  \n",
       "40417  [0.6133556, 0.018741762, -1.0496508, 1.0600104...  \n",
       "40418  [0.4161413, -0.082110114, -0.855329, 0.6914406...  \n",
       "\n",
       "[40419 rows x 5 columns]"
      ]
     },
     "execution_count": 44,
     "metadata": {},
     "output_type": "execute_result"
    }
   ],
   "source": [
    "df"
   ]
  },
  {
   "cell_type": "code",
   "execution_count": 47,
   "id": "cd7e7488",
   "metadata": {},
   "outputs": [],
   "source": [
    "df.to_csv('preprocessed_fakeReviewData.csv',index=False, lineterminator = '')"
   ]
  },
  {
   "cell_type": "code",
   "execution_count": 46,
   "id": "7b9cc3a8",
   "metadata": {},
   "outputs": [],
   "source": [
    "model.save(\"word2vec.model\")"
   ]
  },
  {
   "cell_type": "code",
   "execution_count": null,
   "id": "ee1dabe3",
   "metadata": {},
   "outputs": [],
   "source": []
  },
  {
   "cell_type": "code",
   "execution_count": null,
   "id": "b5ccad71",
   "metadata": {},
   "outputs": [],
   "source": []
  },
  {
   "cell_type": "code",
   "execution_count": null,
   "id": "44674121",
   "metadata": {},
   "outputs": [],
   "source": []
  },
  {
   "cell_type": "code",
   "execution_count": null,
   "id": "7607f7db",
   "metadata": {},
   "outputs": [],
   "source": []
  }
 ],
 "metadata": {
  "kernelspec": {
   "display_name": "Python 3 (ipykernel)",
   "language": "python",
   "name": "python3"
  },
  "language_info": {
   "codemirror_mode": {
    "name": "ipython",
    "version": 3
   },
   "file_extension": ".py",
   "mimetype": "text/x-python",
   "name": "python",
   "nbconvert_exporter": "python",
   "pygments_lexer": "ipython3",
   "version": "3.11.5"
  }
 },
 "nbformat": 4,
 "nbformat_minor": 5
}
