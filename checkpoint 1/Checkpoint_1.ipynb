{
 "cells": [
  {
   "cell_type": "code",
   "execution_count": 1,
   "id": "e3826c63",
   "metadata": {},
   "outputs": [],
   "source": [
    "import pandas as pd"
   ]
  },
  {
   "cell_type": "code",
   "execution_count": 2,
   "id": "ef6ff269",
   "metadata": {},
   "outputs": [],
   "source": [
    "df = pd.read_csv('fakeReviewData.csv')"
   ]
  },
  {
   "cell_type": "code",
   "execution_count": 3,
   "id": "6913a488",
   "metadata": {},
   "outputs": [
    {
     "data": {
      "text/html": [
       "<div>\n",
       "<style scoped>\n",
       "    .dataframe tbody tr th:only-of-type {\n",
       "        vertical-align: middle;\n",
       "    }\n",
       "\n",
       "    .dataframe tbody tr th {\n",
       "        vertical-align: top;\n",
       "    }\n",
       "\n",
       "    .dataframe thead th {\n",
       "        text-align: right;\n",
       "    }\n",
       "</style>\n",
       "<table border=\"1\" class=\"dataframe\">\n",
       "  <thead>\n",
       "    <tr style=\"text-align: right;\">\n",
       "      <th></th>\n",
       "      <th>category</th>\n",
       "      <th>rating</th>\n",
       "      <th>label</th>\n",
       "      <th>text_</th>\n",
       "    </tr>\n",
       "  </thead>\n",
       "  <tbody>\n",
       "    <tr>\n",
       "      <th>0</th>\n",
       "      <td>Home_and_Kitchen_5</td>\n",
       "      <td>5.0</td>\n",
       "      <td>CG</td>\n",
       "      <td>Love this!  Well made, sturdy, and very comfor...</td>\n",
       "    </tr>\n",
       "    <tr>\n",
       "      <th>1</th>\n",
       "      <td>Home_and_Kitchen_5</td>\n",
       "      <td>5.0</td>\n",
       "      <td>CG</td>\n",
       "      <td>love it, a great upgrade from the original.  I...</td>\n",
       "    </tr>\n",
       "    <tr>\n",
       "      <th>2</th>\n",
       "      <td>Home_and_Kitchen_5</td>\n",
       "      <td>5.0</td>\n",
       "      <td>CG</td>\n",
       "      <td>This pillow saved my back. I love the look and...</td>\n",
       "    </tr>\n",
       "    <tr>\n",
       "      <th>3</th>\n",
       "      <td>Home_and_Kitchen_5</td>\n",
       "      <td>1.0</td>\n",
       "      <td>CG</td>\n",
       "      <td>Missing information on how to use it, but it i...</td>\n",
       "    </tr>\n",
       "    <tr>\n",
       "      <th>4</th>\n",
       "      <td>Home_and_Kitchen_5</td>\n",
       "      <td>5.0</td>\n",
       "      <td>CG</td>\n",
       "      <td>Very nice set. Good quality. We have had the s...</td>\n",
       "    </tr>\n",
       "    <tr>\n",
       "      <th>...</th>\n",
       "      <td>...</td>\n",
       "      <td>...</td>\n",
       "      <td>...</td>\n",
       "      <td>...</td>\n",
       "    </tr>\n",
       "    <tr>\n",
       "      <th>40427</th>\n",
       "      <td>Clothing_Shoes_and_Jewelry_5</td>\n",
       "      <td>4.0</td>\n",
       "      <td>OR</td>\n",
       "      <td>I had read some reviews saying that this bra r...</td>\n",
       "    </tr>\n",
       "    <tr>\n",
       "      <th>40428</th>\n",
       "      <td>Clothing_Shoes_and_Jewelry_5</td>\n",
       "      <td>5.0</td>\n",
       "      <td>CG</td>\n",
       "      <td>I wasn't sure exactly what it would be. It is ...</td>\n",
       "    </tr>\n",
       "    <tr>\n",
       "      <th>40429</th>\n",
       "      <td>Clothing_Shoes_and_Jewelry_5</td>\n",
       "      <td>2.0</td>\n",
       "      <td>OR</td>\n",
       "      <td>You can wear the hood by itself, wear it with ...</td>\n",
       "    </tr>\n",
       "    <tr>\n",
       "      <th>40430</th>\n",
       "      <td>Clothing_Shoes_and_Jewelry_5</td>\n",
       "      <td>1.0</td>\n",
       "      <td>CG</td>\n",
       "      <td>I liked nothing about this dress. The only rea...</td>\n",
       "    </tr>\n",
       "    <tr>\n",
       "      <th>40431</th>\n",
       "      <td>Clothing_Shoes_and_Jewelry_5</td>\n",
       "      <td>5.0</td>\n",
       "      <td>OR</td>\n",
       "      <td>I work in the wedding industry and have to wor...</td>\n",
       "    </tr>\n",
       "  </tbody>\n",
       "</table>\n",
       "<p>40432 rows × 4 columns</p>\n",
       "</div>"
      ],
      "text/plain": [
       "                           category  rating label  \\\n",
       "0                Home_and_Kitchen_5     5.0    CG   \n",
       "1                Home_and_Kitchen_5     5.0    CG   \n",
       "2                Home_and_Kitchen_5     5.0    CG   \n",
       "3                Home_and_Kitchen_5     1.0    CG   \n",
       "4                Home_and_Kitchen_5     5.0    CG   \n",
       "...                             ...     ...   ...   \n",
       "40427  Clothing_Shoes_and_Jewelry_5     4.0    OR   \n",
       "40428  Clothing_Shoes_and_Jewelry_5     5.0    CG   \n",
       "40429  Clothing_Shoes_and_Jewelry_5     2.0    OR   \n",
       "40430  Clothing_Shoes_and_Jewelry_5     1.0    CG   \n",
       "40431  Clothing_Shoes_and_Jewelry_5     5.0    OR   \n",
       "\n",
       "                                                   text_  \n",
       "0      Love this!  Well made, sturdy, and very comfor...  \n",
       "1      love it, a great upgrade from the original.  I...  \n",
       "2      This pillow saved my back. I love the look and...  \n",
       "3      Missing information on how to use it, but it i...  \n",
       "4      Very nice set. Good quality. We have had the s...  \n",
       "...                                                  ...  \n",
       "40427  I had read some reviews saying that this bra r...  \n",
       "40428  I wasn't sure exactly what it would be. It is ...  \n",
       "40429  You can wear the hood by itself, wear it with ...  \n",
       "40430  I liked nothing about this dress. The only rea...  \n",
       "40431  I work in the wedding industry and have to wor...  \n",
       "\n",
       "[40432 rows x 4 columns]"
      ]
     },
     "execution_count": 3,
     "metadata": {},
     "output_type": "execute_result"
    }
   ],
   "source": [
    "df"
   ]
  },
  {
   "cell_type": "code",
   "execution_count": 4,
   "id": "7a141c05",
   "metadata": {},
   "outputs": [],
   "source": [
    "df = df.drop_duplicates()"
   ]
  },
  {
   "cell_type": "code",
   "execution_count": 5,
   "id": "c0bc1d35",
   "metadata": {},
   "outputs": [
    {
     "data": {
      "text/html": [
       "<div>\n",
       "<style scoped>\n",
       "    .dataframe tbody tr th:only-of-type {\n",
       "        vertical-align: middle;\n",
       "    }\n",
       "\n",
       "    .dataframe tbody tr th {\n",
       "        vertical-align: top;\n",
       "    }\n",
       "\n",
       "    .dataframe thead th {\n",
       "        text-align: right;\n",
       "    }\n",
       "</style>\n",
       "<table border=\"1\" class=\"dataframe\">\n",
       "  <thead>\n",
       "    <tr style=\"text-align: right;\">\n",
       "      <th></th>\n",
       "      <th>category</th>\n",
       "      <th>rating</th>\n",
       "      <th>label</th>\n",
       "      <th>text_</th>\n",
       "    </tr>\n",
       "  </thead>\n",
       "  <tbody>\n",
       "    <tr>\n",
       "      <th>0</th>\n",
       "      <td>Home_and_Kitchen_5</td>\n",
       "      <td>5.0</td>\n",
       "      <td>CG</td>\n",
       "      <td>Love this!  Well made, sturdy, and very comfor...</td>\n",
       "    </tr>\n",
       "    <tr>\n",
       "      <th>1</th>\n",
       "      <td>Home_and_Kitchen_5</td>\n",
       "      <td>5.0</td>\n",
       "      <td>CG</td>\n",
       "      <td>love it, a great upgrade from the original.  I...</td>\n",
       "    </tr>\n",
       "    <tr>\n",
       "      <th>2</th>\n",
       "      <td>Home_and_Kitchen_5</td>\n",
       "      <td>5.0</td>\n",
       "      <td>CG</td>\n",
       "      <td>This pillow saved my back. I love the look and...</td>\n",
       "    </tr>\n",
       "    <tr>\n",
       "      <th>3</th>\n",
       "      <td>Home_and_Kitchen_5</td>\n",
       "      <td>1.0</td>\n",
       "      <td>CG</td>\n",
       "      <td>Missing information on how to use it, but it i...</td>\n",
       "    </tr>\n",
       "    <tr>\n",
       "      <th>4</th>\n",
       "      <td>Home_and_Kitchen_5</td>\n",
       "      <td>5.0</td>\n",
       "      <td>CG</td>\n",
       "      <td>Very nice set. Good quality. We have had the s...</td>\n",
       "    </tr>\n",
       "    <tr>\n",
       "      <th>...</th>\n",
       "      <td>...</td>\n",
       "      <td>...</td>\n",
       "      <td>...</td>\n",
       "      <td>...</td>\n",
       "    </tr>\n",
       "    <tr>\n",
       "      <th>40427</th>\n",
       "      <td>Clothing_Shoes_and_Jewelry_5</td>\n",
       "      <td>4.0</td>\n",
       "      <td>OR</td>\n",
       "      <td>I had read some reviews saying that this bra r...</td>\n",
       "    </tr>\n",
       "    <tr>\n",
       "      <th>40428</th>\n",
       "      <td>Clothing_Shoes_and_Jewelry_5</td>\n",
       "      <td>5.0</td>\n",
       "      <td>CG</td>\n",
       "      <td>I wasn't sure exactly what it would be. It is ...</td>\n",
       "    </tr>\n",
       "    <tr>\n",
       "      <th>40429</th>\n",
       "      <td>Clothing_Shoes_and_Jewelry_5</td>\n",
       "      <td>2.0</td>\n",
       "      <td>OR</td>\n",
       "      <td>You can wear the hood by itself, wear it with ...</td>\n",
       "    </tr>\n",
       "    <tr>\n",
       "      <th>40430</th>\n",
       "      <td>Clothing_Shoes_and_Jewelry_5</td>\n",
       "      <td>1.0</td>\n",
       "      <td>CG</td>\n",
       "      <td>I liked nothing about this dress. The only rea...</td>\n",
       "    </tr>\n",
       "    <tr>\n",
       "      <th>40431</th>\n",
       "      <td>Clothing_Shoes_and_Jewelry_5</td>\n",
       "      <td>5.0</td>\n",
       "      <td>OR</td>\n",
       "      <td>I work in the wedding industry and have to wor...</td>\n",
       "    </tr>\n",
       "  </tbody>\n",
       "</table>\n",
       "<p>40420 rows × 4 columns</p>\n",
       "</div>"
      ],
      "text/plain": [
       "                           category  rating label  \\\n",
       "0                Home_and_Kitchen_5     5.0    CG   \n",
       "1                Home_and_Kitchen_5     5.0    CG   \n",
       "2                Home_and_Kitchen_5     5.0    CG   \n",
       "3                Home_and_Kitchen_5     1.0    CG   \n",
       "4                Home_and_Kitchen_5     5.0    CG   \n",
       "...                             ...     ...   ...   \n",
       "40427  Clothing_Shoes_and_Jewelry_5     4.0    OR   \n",
       "40428  Clothing_Shoes_and_Jewelry_5     5.0    CG   \n",
       "40429  Clothing_Shoes_and_Jewelry_5     2.0    OR   \n",
       "40430  Clothing_Shoes_and_Jewelry_5     1.0    CG   \n",
       "40431  Clothing_Shoes_and_Jewelry_5     5.0    OR   \n",
       "\n",
       "                                                   text_  \n",
       "0      Love this!  Well made, sturdy, and very comfor...  \n",
       "1      love it, a great upgrade from the original.  I...  \n",
       "2      This pillow saved my back. I love the look and...  \n",
       "3      Missing information on how to use it, but it i...  \n",
       "4      Very nice set. Good quality. We have had the s...  \n",
       "...                                                  ...  \n",
       "40427  I had read some reviews saying that this bra r...  \n",
       "40428  I wasn't sure exactly what it would be. It is ...  \n",
       "40429  You can wear the hood by itself, wear it with ...  \n",
       "40430  I liked nothing about this dress. The only rea...  \n",
       "40431  I work in the wedding industry and have to wor...  \n",
       "\n",
       "[40420 rows x 4 columns]"
      ]
     },
     "execution_count": 5,
     "metadata": {},
     "output_type": "execute_result"
    }
   ],
   "source": [
    "df"
   ]
  },
  {
   "cell_type": "code",
   "execution_count": 6,
   "id": "358dd4c2",
   "metadata": {},
   "outputs": [
    {
     "data": {
      "text/plain": [
       "category    0\n",
       "rating      0\n",
       "label       0\n",
       "text_       0\n",
       "dtype: int64"
      ]
     },
     "execution_count": 6,
     "metadata": {},
     "output_type": "execute_result"
    }
   ],
   "source": [
    "df.isnull().sum()"
   ]
  },
  {
   "cell_type": "code",
   "execution_count": 7,
   "id": "22840cdf",
   "metadata": {},
   "outputs": [
    {
     "name": "stderr",
     "output_type": "stream",
     "text": [
      "C:\\Users\\rishi\\AppData\\Local\\Temp\\ipykernel_23812\\3985980292.py:1: SettingWithCopyWarning: \n",
      "A value is trying to be set on a copy of a slice from a DataFrame.\n",
      "Try using .loc[row_indexer,col_indexer] = value instead\n",
      "\n",
      "See the caveats in the documentation: https://pandas.pydata.org/pandas-docs/stable/user_guide/indexing.html#returning-a-view-versus-a-copy\n",
      "  df['text_'] = df['text_'].str.lower()\n"
     ]
    }
   ],
   "source": [
    "df['text_'] = df['text_'].str.lower()"
   ]
  },
  {
   "cell_type": "code",
   "execution_count": 8,
   "id": "d16e7655",
   "metadata": {},
   "outputs": [
    {
     "data": {
      "text/html": [
       "<div>\n",
       "<style scoped>\n",
       "    .dataframe tbody tr th:only-of-type {\n",
       "        vertical-align: middle;\n",
       "    }\n",
       "\n",
       "    .dataframe tbody tr th {\n",
       "        vertical-align: top;\n",
       "    }\n",
       "\n",
       "    .dataframe thead th {\n",
       "        text-align: right;\n",
       "    }\n",
       "</style>\n",
       "<table border=\"1\" class=\"dataframe\">\n",
       "  <thead>\n",
       "    <tr style=\"text-align: right;\">\n",
       "      <th></th>\n",
       "      <th>category</th>\n",
       "      <th>rating</th>\n",
       "      <th>label</th>\n",
       "      <th>text_</th>\n",
       "    </tr>\n",
       "  </thead>\n",
       "  <tbody>\n",
       "    <tr>\n",
       "      <th>0</th>\n",
       "      <td>Home_and_Kitchen_5</td>\n",
       "      <td>5.0</td>\n",
       "      <td>CG</td>\n",
       "      <td>love this!  well made, sturdy, and very comfor...</td>\n",
       "    </tr>\n",
       "    <tr>\n",
       "      <th>1</th>\n",
       "      <td>Home_and_Kitchen_5</td>\n",
       "      <td>5.0</td>\n",
       "      <td>CG</td>\n",
       "      <td>love it, a great upgrade from the original.  i...</td>\n",
       "    </tr>\n",
       "    <tr>\n",
       "      <th>2</th>\n",
       "      <td>Home_and_Kitchen_5</td>\n",
       "      <td>5.0</td>\n",
       "      <td>CG</td>\n",
       "      <td>this pillow saved my back. i love the look and...</td>\n",
       "    </tr>\n",
       "    <tr>\n",
       "      <th>3</th>\n",
       "      <td>Home_and_Kitchen_5</td>\n",
       "      <td>1.0</td>\n",
       "      <td>CG</td>\n",
       "      <td>missing information on how to use it, but it i...</td>\n",
       "    </tr>\n",
       "    <tr>\n",
       "      <th>4</th>\n",
       "      <td>Home_and_Kitchen_5</td>\n",
       "      <td>5.0</td>\n",
       "      <td>CG</td>\n",
       "      <td>very nice set. good quality. we have had the s...</td>\n",
       "    </tr>\n",
       "    <tr>\n",
       "      <th>...</th>\n",
       "      <td>...</td>\n",
       "      <td>...</td>\n",
       "      <td>...</td>\n",
       "      <td>...</td>\n",
       "    </tr>\n",
       "    <tr>\n",
       "      <th>40427</th>\n",
       "      <td>Clothing_Shoes_and_Jewelry_5</td>\n",
       "      <td>4.0</td>\n",
       "      <td>OR</td>\n",
       "      <td>i had read some reviews saying that this bra r...</td>\n",
       "    </tr>\n",
       "    <tr>\n",
       "      <th>40428</th>\n",
       "      <td>Clothing_Shoes_and_Jewelry_5</td>\n",
       "      <td>5.0</td>\n",
       "      <td>CG</td>\n",
       "      <td>i wasn't sure exactly what it would be. it is ...</td>\n",
       "    </tr>\n",
       "    <tr>\n",
       "      <th>40429</th>\n",
       "      <td>Clothing_Shoes_and_Jewelry_5</td>\n",
       "      <td>2.0</td>\n",
       "      <td>OR</td>\n",
       "      <td>you can wear the hood by itself, wear it with ...</td>\n",
       "    </tr>\n",
       "    <tr>\n",
       "      <th>40430</th>\n",
       "      <td>Clothing_Shoes_and_Jewelry_5</td>\n",
       "      <td>1.0</td>\n",
       "      <td>CG</td>\n",
       "      <td>i liked nothing about this dress. the only rea...</td>\n",
       "    </tr>\n",
       "    <tr>\n",
       "      <th>40431</th>\n",
       "      <td>Clothing_Shoes_and_Jewelry_5</td>\n",
       "      <td>5.0</td>\n",
       "      <td>OR</td>\n",
       "      <td>i work in the wedding industry and have to wor...</td>\n",
       "    </tr>\n",
       "  </tbody>\n",
       "</table>\n",
       "<p>40420 rows × 4 columns</p>\n",
       "</div>"
      ],
      "text/plain": [
       "                           category  rating label  \\\n",
       "0                Home_and_Kitchen_5     5.0    CG   \n",
       "1                Home_and_Kitchen_5     5.0    CG   \n",
       "2                Home_and_Kitchen_5     5.0    CG   \n",
       "3                Home_and_Kitchen_5     1.0    CG   \n",
       "4                Home_and_Kitchen_5     5.0    CG   \n",
       "...                             ...     ...   ...   \n",
       "40427  Clothing_Shoes_and_Jewelry_5     4.0    OR   \n",
       "40428  Clothing_Shoes_and_Jewelry_5     5.0    CG   \n",
       "40429  Clothing_Shoes_and_Jewelry_5     2.0    OR   \n",
       "40430  Clothing_Shoes_and_Jewelry_5     1.0    CG   \n",
       "40431  Clothing_Shoes_and_Jewelry_5     5.0    OR   \n",
       "\n",
       "                                                   text_  \n",
       "0      love this!  well made, sturdy, and very comfor...  \n",
       "1      love it, a great upgrade from the original.  i...  \n",
       "2      this pillow saved my back. i love the look and...  \n",
       "3      missing information on how to use it, but it i...  \n",
       "4      very nice set. good quality. we have had the s...  \n",
       "...                                                  ...  \n",
       "40427  i had read some reviews saying that this bra r...  \n",
       "40428  i wasn't sure exactly what it would be. it is ...  \n",
       "40429  you can wear the hood by itself, wear it with ...  \n",
       "40430  i liked nothing about this dress. the only rea...  \n",
       "40431  i work in the wedding industry and have to wor...  \n",
       "\n",
       "[40420 rows x 4 columns]"
      ]
     },
     "execution_count": 8,
     "metadata": {},
     "output_type": "execute_result"
    }
   ],
   "source": [
    "df"
   ]
  },
  {
   "cell_type": "code",
   "execution_count": 9,
   "id": "afc58adb",
   "metadata": {},
   "outputs": [],
   "source": [
    "import string\n",
    "exclude = string.punctuation+'0123456789'"
   ]
  },
  {
   "cell_type": "code",
   "execution_count": 10,
   "id": "f3284a30",
   "metadata": {},
   "outputs": [],
   "source": [
    "def remove_punctuation(text):\n",
    "    return text.translate(str.maketrans('','',exclude))"
   ]
  },
  {
   "cell_type": "code",
   "execution_count": 11,
   "id": "d4bef98d",
   "metadata": {},
   "outputs": [
    {
     "name": "stderr",
     "output_type": "stream",
     "text": [
      "C:\\Users\\rishi\\AppData\\Local\\Temp\\ipykernel_23812\\1471756791.py:1: SettingWithCopyWarning: \n",
      "A value is trying to be set on a copy of a slice from a DataFrame.\n",
      "Try using .loc[row_indexer,col_indexer] = value instead\n",
      "\n",
      "See the caveats in the documentation: https://pandas.pydata.org/pandas-docs/stable/user_guide/indexing.html#returning-a-view-versus-a-copy\n",
      "  df['text_'] = df['text_'].apply(remove_punctuation)\n"
     ]
    }
   ],
   "source": [
    "df['text_'] = df['text_'].apply(remove_punctuation)"
   ]
  },
  {
   "cell_type": "code",
   "execution_count": 12,
   "id": "9ed4999e",
   "metadata": {},
   "outputs": [
    {
     "data": {
      "text/plain": [
       "0        love this  well made sturdy and very comfortab...\n",
       "1        love it a great upgrade from the original  ive...\n",
       "2        this pillow saved my back i love the look and ...\n",
       "3        missing information on how to use it but it is...\n",
       "4        very nice set good quality we have had the set...\n",
       "                               ...                        \n",
       "40427    i had read some reviews saying that this bra r...\n",
       "40428    i wasnt sure exactly what it would be it is a ...\n",
       "40429    you can wear the hood by itself wear it with t...\n",
       "40430    i liked nothing about this dress the only reas...\n",
       "40431    i work in the wedding industry and have to wor...\n",
       "Name: text_, Length: 40420, dtype: object"
      ]
     },
     "execution_count": 12,
     "metadata": {},
     "output_type": "execute_result"
    }
   ],
   "source": [
    "df['text_']"
   ]
  },
  {
   "cell_type": "code",
   "execution_count": 13,
   "id": "a6a86d1c",
   "metadata": {},
   "outputs": [],
   "source": [
    "from nltk.corpus import stopwords"
   ]
  },
  {
   "cell_type": "code",
   "execution_count": 14,
   "id": "3a3fef0c",
   "metadata": {},
   "outputs": [],
   "source": [
    "def remove_stopwords(text):\n",
    "    new_text=[]\n",
    "    for word in text.split():\n",
    "        if word in stopwords.words('english'):\n",
    "            new_text.append('')\n",
    "        else :\n",
    "            new_text.append(word)\n",
    "    str = new_text[:]\n",
    "    new_text.clear()\n",
    "    return \" \".join(str)"
   ]
  },
  {
   "cell_type": "code",
   "execution_count": 15,
   "id": "bee23db7",
   "metadata": {},
   "outputs": [
    {
     "name": "stderr",
     "output_type": "stream",
     "text": [
      "C:\\Users\\rishi\\AppData\\Local\\Temp\\ipykernel_23812\\597425732.py:1: SettingWithCopyWarning: \n",
      "A value is trying to be set on a copy of a slice from a DataFrame.\n",
      "Try using .loc[row_indexer,col_indexer] = value instead\n",
      "\n",
      "See the caveats in the documentation: https://pandas.pydata.org/pandas-docs/stable/user_guide/indexing.html#returning-a-view-versus-a-copy\n",
      "  df['text_'] = df['text_'].apply(remove_stopwords)\n"
     ]
    }
   ],
   "source": [
    "df['text_'] = df['text_'].apply(remove_stopwords)"
   ]
  },
  {
   "cell_type": "code",
   "execution_count": 16,
   "id": "5c29a76f",
   "metadata": {},
   "outputs": [
    {
     "data": {
      "text/plain": [
       "0        love  well made sturdy   comfortable  love itv...\n",
       "1        love   great upgrade   original ive  mine   co...\n",
       "2            pillow saved  back  love  look  feel   pillow\n",
       "3        missing information    use      great product ...\n",
       "4           nice set good quality     set  two months     \n",
       "                               ...                        \n",
       "40427      read  reviews saying   bra ran small    orde...\n",
       "40428     wasnt sure exactly   would     little large  ...\n",
       "40429      wear  hood   wear    hood  wear   jacket wit...\n",
       "40430     liked nothing   dress   reason  gave  stars  ...\n",
       "40431     work   wedding industry    work long days   f...\n",
       "Name: text_, Length: 40420, dtype: object"
      ]
     },
     "execution_count": 16,
     "metadata": {},
     "output_type": "execute_result"
    }
   ],
   "source": [
    "df['text_']"
   ]
  },
  {
   "cell_type": "code",
   "execution_count": 17,
   "id": "e3b873a4",
   "metadata": {},
   "outputs": [
    {
     "name": "stderr",
     "output_type": "stream",
     "text": [
      "C:\\Users\\rishi\\AppData\\Local\\Temp\\ipykernel_23812\\3196471940.py:1: SettingWithCopyWarning: \n",
      "A value is trying to be set on a copy of a slice from a DataFrame.\n",
      "Try using .loc[row_indexer,col_indexer] = value instead\n",
      "\n",
      "See the caveats in the documentation: https://pandas.pydata.org/pandas-docs/stable/user_guide/indexing.html#returning-a-view-versus-a-copy\n",
      "  df['text_'] = df['text_'].str.strip()\n"
     ]
    }
   ],
   "source": [
    "df['text_'] = df['text_'].str.strip()"
   ]
  },
  {
   "cell_type": "code",
   "execution_count": 18,
   "id": "e23885f5",
   "metadata": {},
   "outputs": [],
   "source": [
    "df = df[df['text_']!='']"
   ]
  },
  {
   "cell_type": "code",
   "execution_count": 19,
   "id": "327b1c73",
   "metadata": {},
   "outputs": [],
   "source": [
    "df=df.reset_index()"
   ]
  },
  {
   "cell_type": "code",
   "execution_count": 20,
   "id": "74d360c1",
   "metadata": {},
   "outputs": [],
   "source": [
    "from nltk.stem import WordNetLemmatizer\n",
    "word_lemma = WordNetLemmatizer()"
   ]
  },
  {
   "cell_type": "code",
   "execution_count": 21,
   "id": "c3ff9820",
   "metadata": {},
   "outputs": [],
   "source": [
    "def word_to_lemma(text):\n",
    "    return \" \".join([word_lemma.lemmatize(word,pos='v') for word in text.split()])"
   ]
  },
  {
   "cell_type": "code",
   "execution_count": 22,
   "id": "f27d05ed",
   "metadata": {},
   "outputs": [],
   "source": [
    "df['text_'] = df['text_'].apply(word_to_lemma)"
   ]
  },
  {
   "cell_type": "code",
   "execution_count": 23,
   "id": "2b1f35d0",
   "metadata": {},
   "outputs": [
    {
     "data": {
      "text/plain": [
       "0        love well make sturdy comfortable love itvery ...\n",
       "1        love great upgrade original ive mine couple years\n",
       "2                   pillow save back love look feel pillow\n",
       "3                 miss information use great product price\n",
       "4                     nice set good quality set two months\n",
       "                               ...                        \n",
       "40414    read review say bra run small order two band c...\n",
       "40415    wasnt sure exactly would little large small si...\n",
       "40416    wear hood wear hood wear jacket without hood s...\n",
       "40417    like nothing dress reason give star order size...\n",
       "40418    work wed industry work long days feet outside ...\n",
       "Name: text_, Length: 40419, dtype: object"
      ]
     },
     "execution_count": 23,
     "metadata": {},
     "output_type": "execute_result"
    }
   ],
   "source": [
    "df['text_']"
   ]
  },
  {
   "cell_type": "code",
   "execution_count": 24,
   "id": "e0779c5f",
   "metadata": {},
   "outputs": [],
   "source": [
    "from nltk.tokenize import word_tokenize"
   ]
  },
  {
   "cell_type": "code",
   "execution_count": 25,
   "id": "27e879f4",
   "metadata": {},
   "outputs": [],
   "source": [
    "df['text_'] = df['text_'].apply(word_tokenize)"
   ]
  },
  {
   "cell_type": "code",
   "execution_count": 26,
   "id": "7a1de573",
   "metadata": {},
   "outputs": [
    {
     "data": {
      "text/plain": [
       "0        [love, well, make, sturdy, comfortable, love, ...\n",
       "1        [love, great, upgrade, original, ive, mine, co...\n",
       "2           [pillow, save, back, love, look, feel, pillow]\n",
       "3          [miss, information, use, great, product, price]\n",
       "4             [nice, set, good, quality, set, two, months]\n",
       "                               ...                        \n",
       "40414    [read, review, say, bra, run, small, order, tw...\n",
       "40415    [wasnt, sure, exactly, would, little, large, s...\n",
       "40416    [wear, hood, wear, hood, wear, jacket, without...\n",
       "40417    [like, nothing, dress, reason, give, star, ord...\n",
       "40418    [work, wed, industry, work, long, days, feet, ...\n",
       "Name: text_, Length: 40419, dtype: object"
      ]
     },
     "execution_count": 26,
     "metadata": {},
     "output_type": "execute_result"
    }
   ],
   "source": [
    "df['text_']"
   ]
  },
  {
   "cell_type": "code",
   "execution_count": 27,
   "id": "aa8035cc",
   "metadata": {},
   "outputs": [],
   "source": [
    "from nltk.tokenize import sent_tokenize\n",
    "corpus=[]\n",
    "for i in range(0,len(df['text_'])):\n",
    "    corpus.append(df['text_'][i])"
   ]
  },
  {
   "cell_type": "code",
   "execution_count": 28,
   "id": "f33c61d6",
   "metadata": {},
   "outputs": [
    {
     "data": {
      "text/plain": [
       "40419"
      ]
     },
     "execution_count": 28,
     "metadata": {},
     "output_type": "execute_result"
    }
   ],
   "source": [
    "len(corpus)"
   ]
  },
  {
   "cell_type": "code",
   "execution_count": 29,
   "id": "2136e9ed",
   "metadata": {},
   "outputs": [],
   "source": [
    "import gensim"
   ]
  },
  {
   "cell_type": "code",
   "execution_count": 30,
   "id": "0c7fc362",
   "metadata": {},
   "outputs": [],
   "source": [
    "model = gensim.models.Word2Vec(window=5,min_count=1)"
   ]
  },
  {
   "cell_type": "code",
   "execution_count": 31,
   "id": "b2f9b0a1",
   "metadata": {},
   "outputs": [],
   "source": [
    "model.build_vocab(corpus)"
   ]
  },
  {
   "cell_type": "code",
   "execution_count": 32,
   "id": "fd4d5aa2",
   "metadata": {},
   "outputs": [
    {
     "data": {
      "text/plain": [
       "(5661342, 6391880)"
      ]
     },
     "execution_count": 32,
     "metadata": {},
     "output_type": "execute_result"
    }
   ],
   "source": [
    "model.train(corpus, total_examples=model.corpus_count, epochs=model.epochs)"
   ]
  },
  {
   "cell_type": "code",
   "execution_count": 33,
   "id": "90bca924",
   "metadata": {},
   "outputs": [
    {
     "data": {
      "text/plain": [
       "[('great', 0.7712389826774597),\n",
       " ('decent', 0.7315543293952942),\n",
       " ('awesome', 0.6824302077293396),\n",
       " ('fantastic', 0.6648381352424622),\n",
       " ('nice', 0.6597338914871216),\n",
       " ('predictablei', 0.6592413187026978),\n",
       " ('excellent', 0.6523725390434265),\n",
       " ('impress', 0.6381648182868958),\n",
       " ('okay', 0.6304275989532471),\n",
       " ('jobgreat', 0.6164841055870056)]"
      ]
     },
     "execution_count": 33,
     "metadata": {},
     "output_type": "execute_result"
    }
   ],
   "source": [
    "model.wv.most_similar('good')"
   ]
  },
  {
   "cell_type": "code",
   "execution_count": 34,
   "id": "6cdd71f4",
   "metadata": {},
   "outputs": [
    {
     "data": {
      "text/plain": [
       "array([-0.2125014 , -0.92146724, -0.98253334,  0.6970511 ,  1.4924388 ,\n",
       "       -1.3439558 ,  1.1106129 , -0.4412775 , -1.0808997 , -0.97547084,\n",
       "        0.6417801 ,  0.503757  , -0.30788186,  0.5421043 ,  1.9710834 ,\n",
       "       -0.22569063,  0.61955345, -0.23168965, -1.5276577 , -0.8227504 ,\n",
       "       -0.26448983,  0.934542  ,  0.00294437,  0.914833  , -0.88070196,\n",
       "        0.44494924,  0.1662543 , -1.018737  , -0.87287265,  0.97522324,\n",
       "        0.24876559, -2.3593955 ,  1.1725633 ,  0.1708463 ,  0.3947006 ,\n",
       "        1.7943217 ,  1.2461604 , -0.51972634, -1.8910998 ,  0.57846224,\n",
       "       -0.9486265 ,  0.24699543, -0.8818169 , -0.9236209 ,  1.3414978 ,\n",
       "       -0.6597599 , -0.5478107 ,  0.02782867,  1.1346841 ,  0.07635359,\n",
       "        0.42955825, -1.128404  , -0.68630195,  0.8861807 , -1.0739824 ,\n",
       "       -1.2164369 , -1.3183362 , -0.25549915,  0.9341757 ,  0.6277106 ,\n",
       "       -0.65900046,  0.40827015,  2.8791776 , -1.2185647 , -0.6963133 ,\n",
       "        1.5119789 ,  0.88373893,  0.742517  , -0.53638273, -1.644452  ,\n",
       "        0.08019748,  1.0042862 ,  0.1773347 , -1.5570451 ,  0.06541015,\n",
       "        0.56491274, -0.34288785,  0.14026587, -0.84576035, -0.19763388,\n",
       "       -0.23388952,  0.6982709 , -0.21663311,  1.2085917 , -0.45111263,\n",
       "       -1.0633472 ,  1.7600464 , -0.19854964,  0.48027727, -0.61913854,\n",
       "        0.31283966,  1.660075  ,  0.19384356, -0.5576679 ,  1.5323486 ,\n",
       "       -1.9839898 ,  2.1493402 ,  1.1077539 ,  0.59727424, -2.3932886 ],\n",
       "      dtype=float32)"
      ]
     },
     "execution_count": 34,
     "metadata": {},
     "output_type": "execute_result"
    }
   ],
   "source": [
    "model.wv['good']"
   ]
  },
  {
   "cell_type": "code",
   "execution_count": 35,
   "id": "dd80a7f0",
   "metadata": {},
   "outputs": [],
   "source": [
    "import numpy as np"
   ]
  },
  {
   "cell_type": "code",
   "execution_count": 36,
   "id": "52a24b16",
   "metadata": {},
   "outputs": [],
   "source": [
    "def sentence_vector(sent):\n",
    "    sent = [word for word in sent if word in model.wv.index_to_key]\n",
    "    return np.mean(model.wv[sent],axis=0)"
   ]
  },
  {
   "cell_type": "code",
   "execution_count": 37,
   "id": "973bcb46",
   "metadata": {},
   "outputs": [],
   "source": [
    "from tqdm import tqdm"
   ]
  },
  {
   "cell_type": "code",
   "execution_count": 38,
   "id": "9be4be04",
   "metadata": {},
   "outputs": [
    {
     "name": "stderr",
     "output_type": "stream",
     "text": [
      "100%|██████████████████████████████████████████████████████████████████████████| 40419/40419 [00:35<00:00, 1147.78it/s]\n"
     ]
    }
   ],
   "source": [
    "data=[]\n",
    "for sent in tqdm(df['text_'].values):\n",
    "    data.append(sentence_vector(sent))"
   ]
  },
  {
   "cell_type": "code",
   "execution_count": 39,
   "id": "97569231",
   "metadata": {},
   "outputs": [],
   "source": [
    "data = np.array(data)"
   ]
  },
  {
   "cell_type": "code",
   "execution_count": 40,
   "id": "9fd5baae",
   "metadata": {},
   "outputs": [
    {
     "data": {
      "text/plain": [
       "(40419, 100)"
      ]
     },
     "execution_count": 40,
     "metadata": {},
     "output_type": "execute_result"
    }
   ],
   "source": [
    "data.shape"
   ]
  },
  {
   "cell_type": "code",
   "execution_count": 41,
   "id": "7a085161",
   "metadata": {},
   "outputs": [
    {
     "data": {
      "text/plain": [
       "array([[ 0.4129921 , -0.72509354, -0.4272384 , ..., -0.5498061 ,\n",
       "         0.00269211, -1.0068681 ],\n",
       "       [-0.3847593 , -0.04292038, -0.49768054, ..., -0.4336536 ,\n",
       "         0.6311937 , -0.412062  ],\n",
       "       [ 0.9089452 , -0.237747  , -1.1944983 , ..., -0.42685232,\n",
       "         0.183972  , -0.3664074 ],\n",
       "       ...,\n",
       "       [ 0.1541389 ,  0.3266419 , -0.51840407, ..., -0.31609553,\n",
       "         0.04603628, -0.22924192],\n",
       "       [ 0.6768558 ,  0.17643645, -1.0684652 , ..., -0.08156437,\n",
       "         0.13054694, -0.43630508],\n",
       "       [ 0.48996374,  0.10319301, -0.7665973 , ..., -0.61567   ,\n",
       "         0.16818602, -0.12206353]], dtype=float32)"
      ]
     },
     "execution_count": 41,
     "metadata": {},
     "output_type": "execute_result"
    }
   ],
   "source": [
    "data"
   ]
  },
  {
   "cell_type": "code",
   "execution_count": 42,
   "id": "fff81136",
   "metadata": {},
   "outputs": [],
   "source": [
    "df['vector'] = [row for row in data]"
   ]
  },
  {
   "cell_type": "code",
   "execution_count": 43,
   "id": "25939917",
   "metadata": {},
   "outputs": [],
   "source": [
    "df.drop(columns='index', inplace=True)"
   ]
  },
  {
   "cell_type": "code",
   "execution_count": 44,
   "id": "b7b8c8d0",
   "metadata": {},
   "outputs": [
    {
     "data": {
      "text/html": [
       "<div>\n",
       "<style scoped>\n",
       "    .dataframe tbody tr th:only-of-type {\n",
       "        vertical-align: middle;\n",
       "    }\n",
       "\n",
       "    .dataframe tbody tr th {\n",
       "        vertical-align: top;\n",
       "    }\n",
       "\n",
       "    .dataframe thead th {\n",
       "        text-align: right;\n",
       "    }\n",
       "</style>\n",
       "<table border=\"1\" class=\"dataframe\">\n",
       "  <thead>\n",
       "    <tr style=\"text-align: right;\">\n",
       "      <th></th>\n",
       "      <th>category</th>\n",
       "      <th>rating</th>\n",
       "      <th>label</th>\n",
       "      <th>text_</th>\n",
       "      <th>vector</th>\n",
       "    </tr>\n",
       "  </thead>\n",
       "  <tbody>\n",
       "    <tr>\n",
       "      <th>0</th>\n",
       "      <td>Home_and_Kitchen_5</td>\n",
       "      <td>5.0</td>\n",
       "      <td>CG</td>\n",
       "      <td>[love, well, make, sturdy, comfortable, love, ...</td>\n",
       "      <td>[0.4129921, -0.72509354, -0.4272384, 0.7591337...</td>\n",
       "    </tr>\n",
       "    <tr>\n",
       "      <th>1</th>\n",
       "      <td>Home_and_Kitchen_5</td>\n",
       "      <td>5.0</td>\n",
       "      <td>CG</td>\n",
       "      <td>[love, great, upgrade, original, ive, mine, co...</td>\n",
       "      <td>[-0.3847593, -0.04292038, -0.49768054, 0.83120...</td>\n",
       "    </tr>\n",
       "    <tr>\n",
       "      <th>2</th>\n",
       "      <td>Home_and_Kitchen_5</td>\n",
       "      <td>5.0</td>\n",
       "      <td>CG</td>\n",
       "      <td>[pillow, save, back, love, look, feel, pillow]</td>\n",
       "      <td>[0.9089452, -0.237747, -1.1944983, 0.5229474, ...</td>\n",
       "    </tr>\n",
       "    <tr>\n",
       "      <th>3</th>\n",
       "      <td>Home_and_Kitchen_5</td>\n",
       "      <td>1.0</td>\n",
       "      <td>CG</td>\n",
       "      <td>[miss, information, use, great, product, price]</td>\n",
       "      <td>[0.18972123, 0.2553477, -0.49209282, 0.5746921...</td>\n",
       "    </tr>\n",
       "    <tr>\n",
       "      <th>4</th>\n",
       "      <td>Home_and_Kitchen_5</td>\n",
       "      <td>5.0</td>\n",
       "      <td>CG</td>\n",
       "      <td>[nice, set, good, quality, set, two, months]</td>\n",
       "      <td>[0.1839242, -0.17013465, -0.79147464, 1.219844...</td>\n",
       "    </tr>\n",
       "    <tr>\n",
       "      <th>...</th>\n",
       "      <td>...</td>\n",
       "      <td>...</td>\n",
       "      <td>...</td>\n",
       "      <td>...</td>\n",
       "      <td>...</td>\n",
       "    </tr>\n",
       "    <tr>\n",
       "      <th>40414</th>\n",
       "      <td>Clothing_Shoes_and_Jewelry_5</td>\n",
       "      <td>4.0</td>\n",
       "      <td>OR</td>\n",
       "      <td>[read, review, say, bra, run, small, order, tw...</td>\n",
       "      <td>[0.10589347, 0.23896876, -0.76626426, 0.397594...</td>\n",
       "    </tr>\n",
       "    <tr>\n",
       "      <th>40415</th>\n",
       "      <td>Clothing_Shoes_and_Jewelry_5</td>\n",
       "      <td>5.0</td>\n",
       "      <td>CG</td>\n",
       "      <td>[wasnt, sure, exactly, would, little, large, s...</td>\n",
       "      <td>[0.81293416, 0.33803585, -1.0244838, 1.0039612...</td>\n",
       "    </tr>\n",
       "    <tr>\n",
       "      <th>40416</th>\n",
       "      <td>Clothing_Shoes_and_Jewelry_5</td>\n",
       "      <td>2.0</td>\n",
       "      <td>OR</td>\n",
       "      <td>[wear, hood, wear, hood, wear, jacket, without...</td>\n",
       "      <td>[0.1541389, 0.3266419, -0.51840407, 0.1952852,...</td>\n",
       "    </tr>\n",
       "    <tr>\n",
       "      <th>40417</th>\n",
       "      <td>Clothing_Shoes_and_Jewelry_5</td>\n",
       "      <td>1.0</td>\n",
       "      <td>CG</td>\n",
       "      <td>[like, nothing, dress, reason, give, star, ord...</td>\n",
       "      <td>[0.6768558, 0.17643645, -1.0684652, 0.9822397,...</td>\n",
       "    </tr>\n",
       "    <tr>\n",
       "      <th>40418</th>\n",
       "      <td>Clothing_Shoes_and_Jewelry_5</td>\n",
       "      <td>5.0</td>\n",
       "      <td>OR</td>\n",
       "      <td>[work, wed, industry, work, long, days, feet, ...</td>\n",
       "      <td>[0.48996374, 0.10319301, -0.7665973, 0.6201975...</td>\n",
       "    </tr>\n",
       "  </tbody>\n",
       "</table>\n",
       "<p>40419 rows × 5 columns</p>\n",
       "</div>"
      ],
      "text/plain": [
       "                           category  rating label  \\\n",
       "0                Home_and_Kitchen_5     5.0    CG   \n",
       "1                Home_and_Kitchen_5     5.0    CG   \n",
       "2                Home_and_Kitchen_5     5.0    CG   \n",
       "3                Home_and_Kitchen_5     1.0    CG   \n",
       "4                Home_and_Kitchen_5     5.0    CG   \n",
       "...                             ...     ...   ...   \n",
       "40414  Clothing_Shoes_and_Jewelry_5     4.0    OR   \n",
       "40415  Clothing_Shoes_and_Jewelry_5     5.0    CG   \n",
       "40416  Clothing_Shoes_and_Jewelry_5     2.0    OR   \n",
       "40417  Clothing_Shoes_and_Jewelry_5     1.0    CG   \n",
       "40418  Clothing_Shoes_and_Jewelry_5     5.0    OR   \n",
       "\n",
       "                                                   text_  \\\n",
       "0      [love, well, make, sturdy, comfortable, love, ...   \n",
       "1      [love, great, upgrade, original, ive, mine, co...   \n",
       "2         [pillow, save, back, love, look, feel, pillow]   \n",
       "3        [miss, information, use, great, product, price]   \n",
       "4           [nice, set, good, quality, set, two, months]   \n",
       "...                                                  ...   \n",
       "40414  [read, review, say, bra, run, small, order, tw...   \n",
       "40415  [wasnt, sure, exactly, would, little, large, s...   \n",
       "40416  [wear, hood, wear, hood, wear, jacket, without...   \n",
       "40417  [like, nothing, dress, reason, give, star, ord...   \n",
       "40418  [work, wed, industry, work, long, days, feet, ...   \n",
       "\n",
       "                                                  vector  \n",
       "0      [0.4129921, -0.72509354, -0.4272384, 0.7591337...  \n",
       "1      [-0.3847593, -0.04292038, -0.49768054, 0.83120...  \n",
       "2      [0.9089452, -0.237747, -1.1944983, 0.5229474, ...  \n",
       "3      [0.18972123, 0.2553477, -0.49209282, 0.5746921...  \n",
       "4      [0.1839242, -0.17013465, -0.79147464, 1.219844...  \n",
       "...                                                  ...  \n",
       "40414  [0.10589347, 0.23896876, -0.76626426, 0.397594...  \n",
       "40415  [0.81293416, 0.33803585, -1.0244838, 1.0039612...  \n",
       "40416  [0.1541389, 0.3266419, -0.51840407, 0.1952852,...  \n",
       "40417  [0.6768558, 0.17643645, -1.0684652, 0.9822397,...  \n",
       "40418  [0.48996374, 0.10319301, -0.7665973, 0.6201975...  \n",
       "\n",
       "[40419 rows x 5 columns]"
      ]
     },
     "execution_count": 44,
     "metadata": {},
     "output_type": "execute_result"
    }
   ],
   "source": [
    "df"
   ]
  },
  {
   "cell_type": "code",
   "execution_count": 45,
   "id": "cd7e7488",
   "metadata": {},
   "outputs": [],
   "source": [
    "df.to_csv('FakeReview.csv',index=False)"
   ]
  }
 ],
 "metadata": {
  "kernelspec": {
   "display_name": "Python 3 (ipykernel)",
   "language": "python",
   "name": "python3"
  },
  "language_info": {
   "codemirror_mode": {
    "name": "ipython",
    "version": 3
   },
   "file_extension": ".py",
   "mimetype": "text/x-python",
   "name": "python",
   "nbconvert_exporter": "python",
   "pygments_lexer": "ipython3",
   "version": "3.11.5"
  }
 },
 "nbformat": 4,
 "nbformat_minor": 5
}
